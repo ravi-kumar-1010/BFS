{
 "cells": [
  {
   "cell_type": "code",
   "execution_count": 17,
   "metadata": {},
   "outputs": [],
   "source": [
    "from collections import deque"
   ]
  },
  {
   "attachments": {},
   "cell_type": "markdown",
   "metadata": {},
   "source": [
    "## Iterative"
   ]
  },
  {
   "cell_type": "code",
   "execution_count": 49,
   "metadata": {},
   "outputs": [
    {
     "name": "stdout",
     "output_type": "stream",
     "text": [
      "0 1 2 3 4 5 6 7 8 9 10 11 12 13 14 "
     ]
    }
   ],
   "source": [
    "class Graph:\n",
    "    def __init__(self,n,edges):\n",
    "        self.adjList = [[] for _ in range(n)]\n",
    "        for src,dest in edges:\n",
    "            self.adjList[src].append(dest)\n",
    "            self.adjList[dest].append(src)\n",
    "\n",
    "\n",
    "def iterativeBFS(graph,discovered,i):\n",
    "    q  = deque()\n",
    "    q.append(i)\n",
    "    while q:\n",
    "        v = q.popleft()\n",
    "        print(v,end=\" \")\n",
    "        for u in graph.adjList[v]:\n",
    "            if not discovered[u]:\n",
    "                q.append(u)\n",
    "                discovered[u] = True\n",
    "\n",
    "\n",
    "if __name__ == '__main__':\n",
    "    edges = [(1, 2), (1, 3), (1, 4), (2, 5), (2, 6), (5, 9), (5, 10), (4, 7), (4, 8), (7, 11), (7, 12)]\n",
    "    n = 15\n",
    "    graph = Graph(n,edges)\n",
    "    discovered = [False]*n\n",
    "    for i in range(n):\n",
    "        if not discovered[i]:\n",
    "            discovered[i] = True\n",
    "            iterativeBFS(graph,discovered,i)\n"
   ]
  },
  {
   "attachments": {},
   "cell_type": "markdown",
   "metadata": {},
   "source": [
    "## Recursive"
   ]
  },
  {
   "cell_type": "code",
   "execution_count": 52,
   "metadata": {},
   "outputs": [
    {
     "name": "stdout",
     "output_type": "stream",
     "text": [
      "0 1 2 3 4 5 6 7 8 9 10 11 12 13 14 "
     ]
    }
   ],
   "source": [
    "class Graph:\n",
    "    def __init__(self,n,edges):\n",
    "        self.adjList = [[] for _ in range(n)]\n",
    "        for src,dest in edges:\n",
    "            self.adjList[src].append(dest)\n",
    "            self.adjList[dest].append(src)\n",
    "\n",
    "\n",
    "def recursiveBFS(graph,discovered,q):\n",
    "    if not q:\n",
    "       return\n",
    "    v = q.popleft()\n",
    "    print(v,end=\" \")\n",
    "    for u in graph.adjList[v]:\n",
    "       if not discovered[u]:\n",
    "           discovered[u] = True\n",
    "           q.append(u)\n",
    "    recursiveBFS(graph,discovered,q)\n",
    "\n",
    "\n",
    "if __name__ == '__main__':\n",
    "    edges = [(1, 2), (1, 3), (1, 4), (2, 5), (2, 6), (5, 9), (5, 10), (4, 7), (4, 8), (7, 11), (7, 12)]\n",
    "    n = 15\n",
    "    graph = Graph(n,edges)\n",
    "    discovered = [False]*n\n",
    "    q = deque()\n",
    "    for i in range(n):\n",
    "        if not discovered[i]:\n",
    "            q.append(i)\n",
    "            discovered[i] = True\n",
    "            recursiveBFS(graph,discovered,q)\n"
   ]
  },
  {
   "cell_type": "code",
   "execution_count": null,
   "metadata": {},
   "outputs": [],
   "source": []
  }
 ],
 "metadata": {
  "kernelspec": {
   "display_name": "base",
   "language": "python",
   "name": "python3"
  },
  "language_info": {
   "codemirror_mode": {
    "name": "ipython",
    "version": 3
   },
   "file_extension": ".py",
   "mimetype": "text/x-python",
   "name": "python",
   "nbconvert_exporter": "python",
   "pygments_lexer": "ipython3",
   "version": "3.9.7"
  },
  "orig_nbformat": 4,
  "vscode": {
   "interpreter": {
    "hash": "cabd9b9465f5446563c02a49673f20e993021516e3534949cbdc0753d9117ed6"
   }
  }
 },
 "nbformat": 4,
 "nbformat_minor": 2
}
